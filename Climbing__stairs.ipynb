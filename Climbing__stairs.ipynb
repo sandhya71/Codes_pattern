{
  "nbformat": 4,
  "nbformat_minor": 0,
  "metadata": {
    "colab": {
      "provenance": []
    },
    "kernelspec": {
      "name": "python3",
      "display_name": "Python 3"
    },
    "language_info": {
      "name": "python"
    }
  },
  "cells": [
    {
      "cell_type": "code",
      "execution_count": null,
      "metadata": {
        "id": "bjH5w94hEzzP"
      },
      "outputs": [],
      "source": [
        "70. Climbing Stairs\n",
        "You are climbing a staircase. It takes n steps to reach the top.\n",
        "\n",
        "Each time you can either climb 1 or 2 steps. In how many distinct ways can you climb to the top?\n",
        "Example 1:\n",
        "\n",
        "Input: n = 2\n",
        "Output: 2\n",
        "Explanation: There are two ways to climb to the top.\n",
        "1. 1 step + 1 step\n",
        "2. 2 steps\n",
        "Example 2:\n",
        "\n",
        "Input: n = 3\n",
        "Output: 3\n",
        "Explanation: There are three ways to climb to the top.\n",
        "1. 1 step + 1 step + 1 step\n",
        "2. 1 step + 2 steps\n",
        "3. 2 steps + 1 step"
      ]
    },
    {
      "cell_type": "code",
      "source": [
        "class Solution:\n",
        "    def climbStairs(self, n: int) -> int:\n",
        "          dp= [0] * (n+1)\n",
        "          dp[0] = 1\n",
        "          dp[1] = 1\n",
        "          for i in range(2, n+1):\n",
        "              dp[i] = dp[i-1] + dp[i-2]\n",
        "          return dp[n]"
      ],
      "metadata": {
        "id": "zk1rzbEzlhUi"
      },
      "execution_count": 5,
      "outputs": []
    },
    {
      "cell_type": "markdown",
      "source": [],
      "metadata": {
        "id": "DDe4vFDRlbAd"
      }
    }
  ]
}